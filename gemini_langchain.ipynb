{
  "nbformat": 4,
  "nbformat_minor": 0,
  "metadata": {
    "colab": {
      "provenance": [],
      "authorship_tag": "ABX9TyOGWWIbj6Euagq+qKC1/1FP",
      "include_colab_link": true
    },
    "kernelspec": {
      "name": "python3",
      "display_name": "Python 3"
    },
    "language_info": {
      "name": "python"
    }
  },
  "cells": [
    {
      "cell_type": "markdown",
      "metadata": {
        "id": "view-in-github",
        "colab_type": "text"
      },
      "source": [
        "<a href=\"https://colab.research.google.com/github/Masood-J/agentic_ai/blob/main/gemini_langchain.ipynb\" target=\"_parent\"><img src=\"https://colab.research.google.com/assets/colab-badge.svg\" alt=\"Open In Colab\"/></a>"
      ]
    },
    {
      "cell_type": "code",
      "execution_count": 56,
      "metadata": {
        "collapsed": true,
        "id": "xp2-MQFP-rub"
      },
      "outputs": [],
      "source": [
        "!pip install --quiet langchain\n"
      ]
    },
    {
      "cell_type": "code",
      "source": [
        "!pip --quiet install google-generativeai"
      ],
      "metadata": {
        "id": "MKB5LSqh_Jvx"
      },
      "execution_count": 57,
      "outputs": []
    },
    {
      "cell_type": "code",
      "source": [
        "!pip install google-genai"
      ],
      "metadata": {
        "collapsed": true,
        "colab": {
          "base_uri": "https://localhost:8080/"
        },
        "id": "VlNC1lPrfl-O",
        "outputId": "8b132684-989d-42ae-dd62-a6cf26a4f67a"
      },
      "execution_count": 58,
      "outputs": [
        {
          "output_type": "stream",
          "name": "stdout",
          "text": [
            "Requirement already satisfied: google-genai in /usr/local/lib/python3.10/dist-packages (0.3.0)\n",
            "Requirement already satisfied: google-auth<3.0.0dev,>=2.14.1 in /usr/local/lib/python3.10/dist-packages (from google-genai) (2.27.0)\n",
            "Requirement already satisfied: pillow<12.0.0,>=10.0.0 in /usr/local/lib/python3.10/dist-packages (from google-genai) (11.0.0)\n",
            "Requirement already satisfied: pydantic<3.0.0dev,>=2.0.0 in /usr/local/lib/python3.10/dist-packages (from google-genai) (2.10.3)\n",
            "Requirement already satisfied: requests<3.0.0dev,>=2.28.1 in /usr/local/lib/python3.10/dist-packages (from google-genai) (2.32.3)\n",
            "Requirement already satisfied: websockets<15.0dev,>=13.0 in /usr/local/lib/python3.10/dist-packages (from google-genai) (14.1)\n",
            "Requirement already satisfied: cachetools<6.0,>=2.0.0 in /usr/local/lib/python3.10/dist-packages (from google-auth<3.0.0dev,>=2.14.1->google-genai) (5.5.0)\n",
            "Requirement already satisfied: pyasn1-modules>=0.2.1 in /usr/local/lib/python3.10/dist-packages (from google-auth<3.0.0dev,>=2.14.1->google-genai) (0.4.1)\n",
            "Requirement already satisfied: rsa<5,>=3.1.4 in /usr/local/lib/python3.10/dist-packages (from google-auth<3.0.0dev,>=2.14.1->google-genai) (4.9)\n",
            "Requirement already satisfied: annotated-types>=0.6.0 in /usr/local/lib/python3.10/dist-packages (from pydantic<3.0.0dev,>=2.0.0->google-genai) (0.7.0)\n",
            "Requirement already satisfied: pydantic-core==2.27.1 in /usr/local/lib/python3.10/dist-packages (from pydantic<3.0.0dev,>=2.0.0->google-genai) (2.27.1)\n",
            "Requirement already satisfied: typing-extensions>=4.12.2 in /usr/local/lib/python3.10/dist-packages (from pydantic<3.0.0dev,>=2.0.0->google-genai) (4.12.2)\n",
            "Requirement already satisfied: charset-normalizer<4,>=2 in /usr/local/lib/python3.10/dist-packages (from requests<3.0.0dev,>=2.28.1->google-genai) (3.4.0)\n",
            "Requirement already satisfied: idna<4,>=2.5 in /usr/local/lib/python3.10/dist-packages (from requests<3.0.0dev,>=2.28.1->google-genai) (3.10)\n",
            "Requirement already satisfied: urllib3<3,>=1.21.1 in /usr/local/lib/python3.10/dist-packages (from requests<3.0.0dev,>=2.28.1->google-genai) (2.2.3)\n",
            "Requirement already satisfied: certifi>=2017.4.17 in /usr/local/lib/python3.10/dist-packages (from requests<3.0.0dev,>=2.28.1->google-genai) (2024.12.14)\n",
            "Requirement already satisfied: pyasn1<0.7.0,>=0.4.6 in /usr/local/lib/python3.10/dist-packages (from pyasn1-modules>=0.2.1->google-auth<3.0.0dev,>=2.14.1->google-genai) (0.6.1)\n"
          ]
        }
      ]
    },
    {
      "cell_type": "code",
      "source": [
        "from google import genai"
      ],
      "metadata": {
        "id": "8Fhs5oOlfrfj"
      },
      "execution_count": null,
      "outputs": []
    },
    {
      "cell_type": "code",
      "source": [
        "from google.colab import userdata\n",
        "GOOGLE_API_KEY = userdata.get('api_key_google')"
      ],
      "metadata": {
        "id": "-eQ9CUyTXPNA"
      },
      "execution_count": 59,
      "outputs": []
    },
    {
      "cell_type": "code",
      "source": [
        "!pip install --quiet langchain_google_genai"
      ],
      "metadata": {
        "id": "0nU8oAWcXgv4"
      },
      "execution_count": 60,
      "outputs": []
    },
    {
      "cell_type": "code",
      "source": [
        "from langchain_google_genai import ChatGoogleGenerativeAI\n",
        "from langchain.prompts import PromptTemplate\n",
        "from langchain.chains import LLMChain"
      ],
      "metadata": {
        "id": "vHaKYatKXtpO"
      },
      "execution_count": 68,
      "outputs": []
    },
    {
      "cell_type": "code",
      "source": [
        "#Define the LLM model Used and some parameters such as temprature and max tokens.Here we will use Gemini 2.0 Flash Model\n",
        "llm = ChatGoogleGenerativeAI(api_key=GOOGLE_API_KEY,\n",
        "                              model=\"gemini-2.0-flash-exp\",\n",
        "                              temperature = 0.7 ,\n",
        "                              tokens= 70,\n",
        "                              stop=[\"\\n\", \"END\"]\n",
        ")"
      ],
      "metadata": {
        "id": "dNJJUwrQX3Hm"
      },
      "execution_count": 62,
      "outputs": []
    },
    {
      "cell_type": "code",
      "source": [
        "#Create a basic template\n",
        "template = \"\"\"Question: {question}\n",
        "\n",
        "Answer: Make it as begineer friendly as possible. Please format the response with natural paragraph breaks and concise explanations.\"\"\"\n",
        "\n",
        "template2 = \"\"\"Question: {question}\n",
        "\n",
        "First Response: {first_response}\n",
        "\n",
        "Answer: Explain in form on bullets\"\"\"\n"
      ],
      "metadata": {
        "id": "riwBIInBZd2e"
      },
      "execution_count": 63,
      "outputs": []
    },
    {
      "cell_type": "code",
      "source": [
        "prompt1=PromptTemplate.from_template(template)\n",
        "prompt2=PromptTemplate.from_template(template2)"
      ],
      "metadata": {
        "id": "gNtNGQtNalFe"
      },
      "execution_count": 64,
      "outputs": []
    },
    {
      "cell_type": "code",
      "source": [
        "#Create Chain\n",
        "create_chain=prompt1 | llm\n",
        "create_chain2=prompt2 | llm"
      ],
      "metadata": {
        "id": "-tASqi9Fa2gW"
      },
      "execution_count": 65,
      "outputs": []
    },
    {
      "cell_type": "code",
      "source": [
        "#Invoke Chain\n",
        "question=\"How do I get into kernel development for android?\"\n",
        "response1=create_chain.invoke({\"question\":question})\n",
        "print(response1)\n",
        "\n",
        "response2 = create_chain2.invoke({\"first_response\": response1, \"question\": question})\n",
        "\n",
        "print(response2)"
      ],
      "metadata": {
        "colab": {
          "base_uri": "https://localhost:8080/"
        },
        "id": "eSBvTvila-ns",
        "outputId": "d8b87647-af44-4373-860f-d3fe7d616187"
      },
      "execution_count": 66,
      "outputs": [
        {
          "output_type": "stream",
          "name": "stdout",
          "text": [
            "content='Okay, let\\'s break down how to get started with Android kernel development, keeping it beginner-friendly. It\\'s a journey that requires patience and a willingness to learn, but it\\'s definitely achievable!\\n\\nFirst, understand that the Android kernel is based on the Linux kernel. So, a good foundation in general Linux concepts is crucial. Think of things like how the file system works, basic command-line usage, and an understanding of processes and memory management. You don\\'t need to be a Linux guru, but familiarity will help immensely. There are tons of free resources online to learn Linux fundamentals.\\n\\nNext, you\\'ll need to familiarize yourself with the Android Open Source Project (AOSP). This is where the Android source code, including the kernel, lives. You\\'ll need to set up a build environment, which can be a bit involved.  AOSP provides detailed instructions for this, and you\\'ll likely need a reasonably powerful computer with plenty of storage space.  Don\\'t be intimidated by the initial complexity; take it one step at a time and use the official guides.\\n\\nOnce you have AOSP set up, you\\'ll want to locate the kernel source code. It\\'s usually found within the `kernel` directory in the AOSP tree.  The specific kernel version will depend on the Android release you\\'re working with.  You\\'ll also need to understand how to compile the kernel for your specific device. This often involves device-specific configuration files and build scripts.\\n\\nNow, where do you start *modifying* things? Begin small. Don\\'t try to rewrite the entire kernel right away!  A great starting point is to look at simple kernel modules. These are small pieces of code that can be loaded and unloaded into the kernel while it\\'s running.  Writing a basic \"hello world\" module is a common exercise and helps you understand the build process and kernel APIs.  There are many tutorials online for writing basic kernel modules.\\n\\nAnother great way to learn is to browse existing kernel code.  Look at drivers for hardware you\\'re familiar with, or explore the code related to a specific feature you\\'re interested in.  Don\\'t be afraid to experiment and make small changes. You\\'ll likely break things along the way, but that\\'s part of the learning process!  Use a virtual device (emulator) to test your changes whenever possible to avoid bricking your real phone.\\n\\nFinally, join the community! There are forums, mailing lists, and online groups dedicated to Android kernel development. These are fantastic resources for asking questions, sharing your findings, and learning from others who have more experience. Don\\'t be shy about asking for help; everyone started somewhere.\\n\\nIn summary, start with Linux fundamentals, get comfortable with AOSP, begin with simple kernel modules, explore existing code, and engage with the community. It\\'s a challenging but rewarding journey!\\n' additional_kwargs={} response_metadata={'prompt_feedback': {'block_reason': 0, 'safety_ratings': []}, 'finish_reason': 'STOP', 'safety_ratings': [{'category': 'HARM_CATEGORY_HATE_SPEECH', 'probability': 'NEGLIGIBLE', 'blocked': False}, {'category': 'HARM_CATEGORY_DANGEROUS_CONTENT', 'probability': 'NEGLIGIBLE', 'blocked': False}, {'category': 'HARM_CATEGORY_HARASSMENT', 'probability': 'NEGLIGIBLE', 'blocked': False}, {'category': 'HARM_CATEGORY_SEXUALLY_EXPLICIT', 'probability': 'NEGLIGIBLE', 'blocked': False}]} id='run-d5de0811-8b49-43d4-bbdc-60d6ea51d69b-0' usage_metadata={'input_tokens': 38, 'output_tokens': 602, 'total_tokens': 640, 'input_token_details': {'cache_read': 0}}\n",
            "content='Okay, here\\'s a breakdown of how to get into Android kernel development, presented in bullet points:\\n\\n*   **Build a Foundation in Linux:**\\n    *   Learn fundamental Linux concepts: file systems, command-line usage, processes, and memory management.\\n    *   You don\\'t need to be an expert, but familiarity is crucial.\\n    *   Utilize free online resources to learn Linux basics.\\n\\n*   **Get Acquainted with the Android Open Source Project (AOSP):**\\n    *   Understand that AOSP is where the Android source code resides, including the kernel.\\n    *   Set up an AOSP build environment on your computer (requires a powerful machine and storage).\\n    *   Follow the detailed instructions provided by AOSP for setting up the build environment.\\n\\n*   **Locate the Kernel Source Code:**\\n    *   Find the kernel source within the `kernel` directory in your AOSP tree.\\n    *   The specific kernel version will vary based on the Android release you are working with.\\n\\n*   **Understand Kernel Compilation:**\\n    *   Learn how to compile the kernel for your specific device.\\n    *   This often involves using device-specific configuration files and build scripts.\\n\\n*   **Start with Simple Kernel Modules:**\\n    *   Begin by writing basic kernel modules (small pieces of code loaded into the kernel).\\n    *   Try writing a \"hello world\" module to understand the build process and kernel APIs.\\n    *   Use online tutorials as a guide to write your first kernel module.\\n\\n*   **Explore Existing Kernel Code:**\\n    *   Browse drivers for hardware you are familiar with.\\n    *   Examine code related to features you are interested in.\\n    *   Experiment with small changes and don\\'t be afraid to break things (it\\'s part of learning).\\n\\n*   **Test Changes Safely:**\\n    *   Use a virtual device (emulator) to test your kernel modifications whenever possible.\\n    *   This helps avoid potentially bricking your real phone.\\n\\n*   **Engage with the Community:**\\n    *   Join forums, mailing lists, and online groups related to Android kernel development.\\n    *   Ask questions, share your findings, and learn from experienced developers.\\n    *   Don\\'t hesitate to seek help; everyone starts somewhere.\\n\\n*   **Key Takeaways:**\\n    *   Start with Linux fundamentals.\\n    *   Become comfortable with AOSP.\\n    *   Begin with simple kernel modules.\\n    *   Explore existing code.\\n    *   Test changes safely.\\n    *   Engage with the community.\\n    *   Be patient and persistent; it\\'s a challenging but rewarding journey!\\n' additional_kwargs={} response_metadata={'prompt_feedback': {'block_reason': 0, 'safety_ratings': []}, 'finish_reason': 'STOP', 'safety_ratings': [{'category': 'HARM_CATEGORY_HATE_SPEECH', 'probability': 'NEGLIGIBLE', 'blocked': False}, {'category': 'HARM_CATEGORY_DANGEROUS_CONTENT', 'probability': 'NEGLIGIBLE', 'blocked': False}, {'category': 'HARM_CATEGORY_HARASSMENT', 'probability': 'NEGLIGIBLE', 'blocked': False}, {'category': 'HARM_CATEGORY_SEXUALLY_EXPLICIT', 'probability': 'NEGLIGIBLE', 'blocked': False}]} id='run-edd13737-d104-461e-8bb3-ed68c68f5ba2-0' usage_metadata={'input_tokens': 887, 'output_tokens': 568, 'total_tokens': 1455, 'input_token_details': {'cache_read': 0}}\n"
          ]
        }
      ]
    },
    {
      "cell_type": "code",
      "source": [
        "prompt_template = PromptTemplate(\n",
        "    input_variables=[\"question\"],\n",
        "    template=\"You are a helpful assistant.Make the response begineer friendly :\\n\\n{question}\"\n",
        ")\n",
        "\n",
        "prompt_template2 = PromptTemplate(\n",
        "    input_variables=[\"response\"],\n",
        "    template=\"Write short and concise explanation use bullets where necassery:\\n\\n{question}\"\n",
        ")\n",
        "\n",
        "chain = LLMChain(llm=llm, prompt=prompt_template)\n",
        "chain2 = LLMChain(llm=llm, prompt=prompt_template2)\n",
        "\n",
        "question = \"Help me build lineage os for my android device provide me with build intructions\"\n",
        "response = chain.run({\"question\": question})\n",
        "\n",
        "print(\"Answer:\", response)\n",
        "\n",
        "response2 = chain2.run({\"question\": response})\n",
        "\n",
        "print(\"Explanation:\", response2)"
      ],
      "metadata": {
        "colab": {
          "base_uri": "https://localhost:8080/"
        },
        "id": "C4BXoJQJpOMJ",
        "outputId": "08fe589c-c67d-4727-d22f-73171d0fb748"
      },
      "execution_count": 71,
      "outputs": [
        {
          "output_type": "stream",
          "name": "stdout",
          "text": [
            "Answer: Okay, let's get you started on building LineageOS! It's a cool project, but it can be a bit complex. We'll take it step-by-step, and I'll explain things as simply as possible.\n",
            "\n",
            "**What is LineageOS?**\n",
            "\n",
            "Imagine your Android phone's operating system (like the software that makes it work) as a house. The version you get from the phone maker (like Samsung or Google) is like a pre-built house. LineageOS is like a custom-built house – it's a free and open-source version of Android that you can install on your phone. It often has more features, less bloatware, and usually gets updates for longer than the stock (original) software.\n",
            "\n",
            "**Important Note:** Building LineageOS is an advanced task. It's not something you can do on your phone directly. You'll need a computer (preferably Linux, but we'll talk about other options), and you'll need to be comfortable with using a command line. There's also a risk of \"bricking\" your phone if things go wrong, so please proceed with caution and make sure you understand each step.\n",
            "\n",
            "**Here's a simplified overview of the process:**\n",
            "\n",
            "1.  **Check Device Compatibility:** Not all phones can run LineageOS. We need to make sure your phone is supported.\n",
            "2.  **Set Up Your Build Environment:** This means getting your computer ready with all the necessary tools.\n",
            "3.  **Download the Source Code:** This is the \"recipe\" for LineageOS, which we'll use to build the software.\n",
            "4.  **Configure the Build:** We'll tell the system what phone we're building for.\n",
            "5.  **Build the ROM:** This is the actual process of compiling the code into something you can install.\n",
            "6.  **Install on Your Phone:** After a successful build, you'll install the new software onto your phone.\n",
            "\n",
            "**Let's dive into the details:**\n",
            "\n",
            "**Step 1: Check Device Compatibility**\n",
            "\n",
            "*   **Go to the LineageOS website:** Head to [https://lineageos.org/](https://lineageos.org/)\n",
            "*   **Click on \"Devices\":** You'll see a list of supported devices.\n",
            "*   **Search for your phone:** Use the search box or browse the list to find your exact phone model.\n",
            "*   **Check the status:** If your device is listed, it means it's supported. Take note of the device's **codename** (usually a short, unique word). You'll need this later. If it is not listed, this means you cannot build official lineage for it. It could be possible that there is an unofficial version available. You would have to look for that on online forums.\n",
            "\n",
            "**Step 2: Set Up Your Build Environment**\n",
            "\n",
            "This is the most complicated step, but I'll try to make it easier:\n",
            "\n",
            "*   **Operating System:**\n",
            "    *   **Best Option: Linux (Ubuntu or similar):** This is the recommended operating system for building Android. It's like using the right tools for the job. If you're new to Linux, I recommend starting with Ubuntu. You can install it on your computer alongside Windows if you want. I would recommend a clean install on a spare machine.\n",
            "    *   **Other Options (More Complex):** macOS and Windows are technically possible with extra steps (like using a virtual machine or Windows Subsystem for Linux), but they are not beginner-friendly.\n",
            "*   **Install Java Development Kit (JDK):** You'll need a specific version of Java (usually OpenJDK 11 or 17). Here's how to install it on Ubuntu:\n",
            "    ```bash\n",
            "    sudo apt update\n",
            "    sudo apt install openjdk-17-jdk\n",
            "    ```\n",
            "*   **Install Build Packages:** You need a bunch of tools to compile the code. Here's how on Ubuntu:\n",
            "    ```bash\n",
            "    sudo apt update\n",
            "    sudo apt install bc bison build-essential ccache curl flex git gperf imagemagick liblz4-tool libncurses5-dev libsdl1.2-dev libssl-dev libwxgtk3.0-gtk3-dev maven python3-dev rsync schedtool squashfs-tools xsltproc zip zlib1g-dev\n",
            "    ```\n",
            "*   **Install Repo:** Repo is a tool that helps manage the source code.\n",
            "    ```bash\n",
            "    mkdir -p ~/bin\n",
            "    curl https://storage.googleapis.com/git-repo-downloads/repo > ~/bin/repo\n",
            "    chmod a+x ~/bin/repo\n",
            "    export PATH=~/bin:$PATH\n",
            "    ```\n",
            "*   **Create a Build Directory:** Choose a location on your computer where you want to store the LineageOS source code. For example:\n",
            "    ```bash\n",
            "    mkdir ~/lineageos\n",
            "    cd ~/lineageos\n",
            "    ```\n",
            "\n",
            "**Step 3: Download the Source Code**\n",
            "\n",
            "Now we'll get the source code using the `repo` command:\n",
            "\n",
            "1.  **Initialize Repo:**\n",
            "    ```bash\n",
            "    repo init -u https://github.com/LineageOS/android.git -b lineage-20\n",
            "    ```\n",
            "    *   `lineage-20` is the branch, you can change this if you want to build an older version.\n",
            "2.  **Sync the Code:** This will download all the source code, which can take a long time (hours, even days).\n",
            "    ```bash\n",
            "    repo sync -j$(nproc --all)\n",
            "    ```\n",
            "    *   `-j$(nproc --all)` uses all of your computer's processors to speed things up.\n",
            "\n",
            "**Step 4: Configure the Build**\n",
            "\n",
            "1.  **Extract Device Specific Files:** You'll need to download device specific files from the repository.\n",
            "    ```bash\n",
            "    source build/envsetup.sh\n",
            "    lunch\n",
            "    ```\n",
            "    *   You will be prompted to select your device using the device codename. Select the corresponding number.\n",
            "2.  **Set up the device tree:** This is a directory containing configurations for your device.\n",
            "    ```bash\n",
            "    mkdir -p device/<manufacturer>/<codename>\n",
            "    cd device/<manufacturer>/<codename>\n",
            "    git init\n",
            "    git remote add github https://github.com/<githubusername>/android_device_<manufacturer>_<codename>.git\n",
            "    git fetch github\n",
            "    git checkout main\n",
            "    cd ~/lineageos\n",
            "    ```\n",
            "    *   Replace `<manufacturer>` with the manufacturer of your phone. For example, `google`, `samsung`, etc.\n",
            "    *   Replace `<codename>` with the codename of your device that you found in Step 1.\n",
            "    *   Replace `<githubusername>` with a github username. This will be used to pull the device tree from github.\n",
            "    *   If you do not have a github account, you will have to create one.\n",
            "    *   You may also need to search for the device tree on github if you cannot find the official one.\n",
            "    *   You might need to do the same for the kernel.\n",
            "    *   If no device tree exists for your device, then you will not be able to build lineageos for it.\n",
            "3.  **Set up the vendor files:** This is a directory containing files specific to your phone's vendor.\n",
            "    ```bash\n",
            "    mkdir -p vendor/<manufacturer>\n",
            "    cd vendor/<manufacturer>\n",
            "    git init\n",
            "    git remote add github https://github.com/<githubusername>/proprietary_vendor_<manufacturer>.git\n",
            "    git fetch github\n",
            "    git checkout main\n",
            "    cd ~/lineageos\n",
            "    ```\n",
            "    *   Replace `<manufacturer>` with the manufacturer of your phone. For example, `google`, `samsung`, etc.\n",
            "    *   Replace `<githubusername>` with a github username. This will be used to pull the vendor files from github.\n",
            "    *   If you do not have a github account, you will have to create one.\n",
            "    *   You may also need to search for the vendor files on github if you cannot find the official one.\n",
            "    *   If no vendor files exist for your device, then you will not be able to build lineageos for it.\n",
            "\n",
            "**Step 5: Build the ROM**\n",
            "\n",
            "Now, the exciting part:\n",
            "\n",
            "1.  **Start the build:**\n",
            "    ```bash\n",
            "    source build/envsetup.sh\n",
            "    lunch <codename>-userdebug\n",
            "    mka bacon\n",
            "    ```\n",
            "    *   Replace `<codename>` with your device's codename.\n",
            "    *   `mka bacon` starts the build process. This will take a long, long time, possibly many hours, or even a day or two depending on your computer.\n",
            "\n",
            "**Step 6: Install on Your Phone**\n",
            "\n",
            "*   **Unlock the Bootloader:** You need to unlock your phone's bootloader. This process varies from phone to phone, so you'll need to search online for instructions specific to your device.\n",
            "*   **Flash the ROM:** You'll need to use tools like `fastboot` (part of the Android SDK) to flash (install) the built ROM onto your phone. This also varies from phone to phone. Search for instructions specific to your device on how to flash a custom ROM.\n",
            "*   **Back Up Your Data:** Before you do anything, back up all your important data on your phone, as the process will erase everything.\n",
            "\n",
            "**Important Tips for Beginners:**\n",
            "\n",
            "*   **Start with a Supported Device:** Don't try this with a phone that isn't on the LineageOS list.\n",
            "*   **Read Everything Carefully:** The instructions are precise. Don't skip steps.\n",
            "*   **Be Patient:** The build process takes a long time.\n",
            "*   **Search Online for Device-Specific Instructions:** Every device is a little different. Search for tutorials and forums specific to your phone model.\n",
            "*   **Ask for Help:** Don't be afraid to ask questions on forums or in communities dedicated to LineageOS.\n",
            "*   **Don't Give Up:** Building LineageOS is a challenging project, but it's very rewarding when you get it working.\n",
            "\n",
            "**This is a simplified overview. Each step involves more details. Please ask if you have questions about a specific part, and I'll do my best to guide you!**\n",
            "\n",
            "Let's start with checking if your device is supported. What is your phone's model?\n",
            "\n",
            "Explanation: Okay, here's a concise explanation of building LineageOS, using bullets where appropriate:\n",
            "\n",
            "**What is LineageOS?**\n",
            "\n",
            "*   A free, open-source version of Android.\n",
            "*   Offers more features, less bloatware, and longer updates than stock Android.\n",
            "*   Like a custom-built house compared to a pre-built one (stock Android).\n",
            "\n",
            "**Important Notes:**\n",
            "\n",
            "*   Advanced task; requires a computer, not doable on the phone.\n",
            "*   Requires command line familiarity.\n",
            "*   Risk of \"bricking\" your phone. Proceed cautiously.\n",
            "\n",
            "**Simplified Process Overview:**\n",
            "\n",
            "*   **Check Device Compatibility:** Is your phone supported?\n",
            "*   **Set Up Build Environment:** Prepare your computer with necessary tools.\n",
            "*   **Download Source Code:** Get the \"recipe\" for LineageOS.\n",
            "*   **Configure Build:** Specify your phone model.\n",
            "*   **Build ROM:** Compile the code into an installable file.\n",
            "*   **Install on Phone:** Flash the built ROM onto your phone.\n",
            "\n",
            "**Step-by-Step Details:**\n",
            "\n",
            "**1. Check Device Compatibility:**\n",
            "\n",
            "*   Go to [https://lineageos.org/](https://lineageos.org/).\n",
            "*   Click \"Devices.\"\n",
            "*   Search for your phone model.\n",
            "*   Note the device's **codename**.\n",
            "*   If not listed, official LineageOS build is not possible. Check for unofficial versions in forums.\n",
            "\n",
            "**2. Set Up Build Environment:**\n",
            "\n",
            "*   **Operating System:**\n",
            "    *   **Best:** Linux (Ubuntu).\n",
            "    *   **Other (complex):** macOS, Windows (with VM or WSL).\n",
            "*   **Install JDK:**\n",
            "    ```bash\n",
            "    sudo apt update\n",
            "    sudo apt install openjdk-17-jdk\n",
            "    ```\n",
            "*   **Install Build Packages:**\n",
            "    ```bash\n",
            "    sudo apt update\n",
            "    sudo apt install bc bison build-essential ccache curl flex git gperf imagemagick liblz4-tool libncurses5-dev libsdl1.2-dev libssl-dev libwxgtk3.0-gtk3-dev maven python3-dev rsync schedtool squashfs-tools xsltproc zip zlib1g-dev\n",
            "    ```\n",
            "*   **Install Repo:**\n",
            "    ```bash\n",
            "    mkdir -p ~/bin\n",
            "    curl https://storage.googleapis.com/git-repo-downloads/repo > ~/bin/repo\n",
            "    chmod a+x ~/bin/repo\n",
            "    export PATH=~/bin:$PATH\n",
            "    ```\n",
            "*   **Create Build Directory:**\n",
            "    ```bash\n",
            "    mkdir ~/lineageos\n",
            "    cd ~/lineageos\n",
            "    ```\n",
            "\n",
            "**3. Download Source Code:**\n",
            "\n",
            "*   **Initialize Repo:**\n",
            "    ```bash\n",
            "    repo init -u https://github.com/LineageOS/android.git -b lineage-20\n",
            "    ```\n",
            "    *   `lineage-20` is the branch, can be changed for older versions.\n",
            "*   **Sync the Code:**\n",
            "    ```bash\n",
            "    repo sync -j$(nproc --all)\n",
            "    ```\n",
            "    *   Long download, can take hours/days.\n",
            "\n",
            "**4. Configure Build:**\n",
            "\n",
            "*   **Extract Device Specific Files:**\n",
            "    ```bash\n",
            "    source build/envsetup.sh\n",
            "    lunch\n",
            "    ```\n",
            "    *   Select your device using its codename.\n",
            "*   **Set up device tree:**\n",
            "    ```bash\n",
            "    mkdir -p device/<manufacturer>/<codename>\n",
            "    cd device/<manufacturer>/<codename>\n",
            "    git init\n",
            "    git remote add github https://github.com/<githubusername>/android_device_<manufacturer>_<codename>.git\n",
            "    git fetch github\n",
            "    git checkout main\n",
            "    cd ~/lineageos\n",
            "    ```\n",
            "*   **Set up vendor files:**\n",
            "    ```bash\n",
            "    mkdir -p vendor/<manufacturer>\n",
            "    cd vendor/<manufacturer>\n",
            "    git init\n",
            "    git remote add github https://github.com/<githubusername>/proprietary_vendor_<manufacturer>.git\n",
            "    git fetch github\n",
            "    git checkout main\n",
            "    cd ~/lineageos\n",
            "    ```\n",
            "    *   Replace placeholders with your device details.\n",
            "    *   Requires a Github account.\n",
            "    *   Device and vendor trees may need to be searched for online. If not found, you cannot build.\n",
            "\n",
            "**5. Build the ROM:**\n",
            "\n",
            "*   **Start the build:**\n",
            "    ```bash\n",
            "    source build/envsetup.sh\n",
            "    lunch <codename>-userdebug\n",
            "    mka bacon\n",
            "    ```\n",
            "    *   Replace `<codename>` with your device's codename.\n",
            "    *   Long process, can take hours/days.\n",
            "\n",
            "**6. Install on Phone:**\n",
            "\n",
            "*   **Unlock Bootloader:** Device-specific, search online.\n",
            "*   **Flash ROM:** Using `fastboot`, device-specific instructions.\n",
            "*   **Back Up Data:** Critical before flashing.\n",
            "\n",
            "**Tips for Beginners:**\n",
            "\n",
            "*   Use a supported device.\n",
            "*   Read instructions carefully.\n",
            "*   Be patient.\n",
            "*   Search for device-specific tutorials.\n",
            "*   Ask for help on forums.\n",
            "*   Don't give up.\n",
            "\n",
            "Let's start with checking device compatibility. **What is your phone's model?**\n",
            "\n"
          ]
        }
      ]
    },
    {
      "cell_type": "markdown",
      "source": [],
      "metadata": {
        "id": "UPrj6Zi5XgAu"
      }
    }
  ]
}